{
 "cells": [
  {
   "cell_type": "code",
   "execution_count": 1,
   "metadata": {},
   "outputs": [],
   "source": [
    "import torch\n",
    "from data import Data\n",
    "from train import train\n",
    "from model import RNN\n",
    "import matplotlib.pyplot as plt\n",
    "\n"
   ]
  },
  {
   "cell_type": "code",
   "execution_count": 2,
   "metadata": {},
   "outputs": [
    {
     "name": "stdout",
     "output_type": "stream",
     "text": [
      "Arabic\n",
      "Chinese\n",
      "Czech\n",
      "Dutch\n",
      "English\n",
      "French\n",
      "German\n",
      "Greek\n",
      "Irish\n",
      "Italian\n",
      "Japanese\n",
      "Korean\n",
      "Polish\n",
      "Portuguese\n",
      "Russian\n",
      "Scottish\n",
      "Spanish\n",
      "Vietnamese\n"
     ]
    }
   ],
   "source": [
    "\n",
    "data = Data()\n",
    "model = RNN(len(data.vocab), 256, len(data.categories))\n",
    "criterion = torch.nn.CrossEntropyLoss()\n",
    "optimizer = torch.optim.SGD(model.parameters(), lr=0.005)\n",
    "losses = []\n",
    "\n"
   ]
  },
  {
   "cell_type": "code",
   "execution_count": 3,
   "metadata": {},
   "outputs": [
    {
     "name": "stdout",
     "output_type": "stream",
     "text": [
      "Iterations: 1000 | loss: 2.865451549053192\n",
      "Iterations: 2000 | loss: 2.8095970203876495\n",
      "Iterations: 3000 | loss: 2.7057888602614404\n",
      "Iterations: 4000 | loss: 2.4050828749388455\n",
      "Iterations: 5000 | loss: 2.2342852455824613\n",
      "Iterations: 6000 | loss: 2.0316530069932344\n",
      "Iterations: 7000 | loss: 2.045303371094167\n",
      "Iterations: 8000 | loss: 1.983481831666082\n",
      "Iterations: 9000 | loss: 1.8534821699671447\n",
      "Iterations: 10000 | loss: 1.9124604096785187\n",
      "Iterations: 11000 | loss: 1.8415839486308396\n",
      "Iterations: 12000 | loss: 1.7913818822726608\n",
      "Iterations: 13000 | loss: 1.8497780509591102\n",
      "Iterations: 14000 | loss: 1.7315141803929581\n",
      "Iterations: 15000 | loss: 1.720058274719864\n",
      "Iterations: 16000 | loss: 1.727610463924706\n",
      "Iterations: 17000 | loss: 1.6934851997625082\n",
      "Iterations: 18000 | loss: 1.6160698451874778\n",
      "Iterations: 19000 | loss: 1.6532458134307526\n",
      "Iterations: 20000 | loss: 1.6090708575434982\n",
      "Iterations: 21000 | loss: 1.5550458712652326\n",
      "Iterations: 22000 | loss: 1.569086622659117\n",
      "Iterations: 23000 | loss: 1.5836221417691558\n",
      "Iterations: 24000 | loss: 1.5297490703621879\n",
      "Iterations: 25000 | loss: 1.5760343665014953\n",
      "Iterations: 26000 | loss: 1.5235375826703383\n",
      "Iterations: 27000 | loss: 1.5397580549847334\n",
      "Iterations: 28000 | loss: 1.5460226171910763\n",
      "Iterations: 29000 | loss: 1.512163846750278\n",
      "Iterations: 30000 | loss: 1.5464562719478272\n",
      "Iterations: 31000 | loss: 1.4545069031848106\n",
      "Iterations: 32000 | loss: 1.4689447512477636\n",
      "Iterations: 33000 | loss: 1.5125968811726198\n",
      "Iterations: 34000 | loss: 1.4330519360820764\n",
      "Iterations: 35000 | loss: 1.5082038416168653\n",
      "Iterations: 36000 | loss: 1.4865191998309455\n",
      "Iterations: 37000 | loss: 1.4211855993267382\n",
      "Iterations: 38000 | loss: 1.4142285852283238\n",
      "Iterations: 39000 | loss: 1.4667585962808225\n",
      "Iterations: 40000 | loss: 1.3868166011148133\n",
      "Iterations: 41000 | loss: 1.3523649069275707\n",
      "Iterations: 42000 | loss: 1.3995090916389599\n",
      "Iterations: 43000 | loss: 1.3721810203790665\n",
      "Iterations: 44000 | loss: 1.3083114606840536\n",
      "Iterations: 45000 | loss: 1.3818716723816469\n",
      "Iterations: 46000 | loss: 1.375550911686849\n",
      "Iterations: 47000 | loss: 1.3342064279771875\n",
      "Iterations: 48000 | loss: 1.2985565375541337\n",
      "Iterations: 49000 | loss: 1.3272883313805797\n",
      "Iterations: 50000 | loss: 1.2803061462775804\n",
      "Iterations: 51000 | loss: 1.337106319440296\n",
      "Iterations: 52000 | loss: 1.254303343734704\n",
      "Iterations: 53000 | loss: 1.2635714681594399\n",
      "Iterations: 54000 | loss: 1.3155389394345693\n",
      "Iterations: 55000 | loss: 1.2848793161440408\n",
      "Iterations: 56000 | loss: 1.2526944396080217\n",
      "Iterations: 57000 | loss: 1.176472015391686\n",
      "Iterations: 58000 | loss: 1.2505570366387837\n",
      "Iterations: 59000 | loss: 1.2760721840650076\n",
      "Iterations: 60000 | loss: 1.200759243834531\n",
      "Iterations: 61000 | loss: 1.2170243319344007\n",
      "Iterations: 62000 | loss: 1.1797018064354778\n",
      "Iterations: 63000 | loss: 1.0991548309938517\n",
      "Iterations: 64000 | loss: 1.125445638277568\n",
      "Iterations: 65000 | loss: 1.131788608049159\n",
      "Iterations: 66000 | loss: 1.1668185308292158\n",
      "Iterations: 67000 | loss: 1.037455011483282\n",
      "Iterations: 68000 | loss: 1.0340800952356075\n",
      "Iterations: 69000 | loss: 1.106750432479108\n",
      "Iterations: 70000 | loss: 1.0461234980353329\n",
      "Iterations: 71000 | loss: 1.0924109936306485\n",
      "Iterations: 72000 | loss: 1.090477573364129\n",
      "Iterations: 73000 | loss: 1.0796617117506102\n",
      "Iterations: 74000 | loss: 1.1045882128203521\n",
      "Iterations: 75000 | loss: 1.097619780010602\n",
      "Iterations: 76000 | loss: 0.9902878529670707\n",
      "Iterations: 77000 | loss: 1.0377844589909655\n",
      "Iterations: 78000 | loss: 0.9966760380305423\n",
      "Iterations: 79000 | loss: 1.0722251038202084\n",
      "Iterations: 80000 | loss: 1.0342928704646475\n",
      "Iterations: 81000 | loss: 1.0448273024477968\n",
      "Iterations: 82000 | loss: 1.0613128792889766\n",
      "Iterations: 83000 | loss: 0.9533152333340841\n",
      "Iterations: 84000 | loss: 0.990547876793251\n",
      "Iterations: 85000 | loss: 0.962441834633064\n",
      "Iterations: 86000 | loss: 0.9834891061998787\n",
      "Iterations: 87000 | loss: 0.9533246367423853\n",
      "Iterations: 88000 | loss: 1.0335416068815975\n",
      "Iterations: 89000 | loss: 1.0412073702574416\n",
      "Iterations: 90000 | loss: 1.0251217587615247\n",
      "Iterations: 91000 | loss: 0.9238945086799213\n",
      "Iterations: 92000 | loss: 0.8761123131138738\n",
      "Iterations: 93000 | loss: 0.9561295751069556\n",
      "Iterations: 94000 | loss: 1.0023227019274346\n",
      "Iterations: 95000 | loss: 0.8817567713926546\n",
      "Iterations: 96000 | loss: 0.9131698834949493\n",
      "Iterations: 97000 | loss: 0.8371599082238972\n",
      "Iterations: 98000 | loss: 0.8377523867264426\n",
      "Iterations: 99000 | loss: 0.9453205664745765\n",
      "Iterations: 100000 | loss: 0.8727215435417238\n",
      "Iterations: 101000 | loss: 0.8694885935048952\n",
      "Iterations: 102000 | loss: 0.8075869738278271\n",
      "Iterations: 103000 | loss: 0.8975256590802164\n",
      "Iterations: 104000 | loss: 0.8409940154360229\n",
      "Iterations: 105000 | loss: 0.849974649336611\n",
      "Iterations: 106000 | loss: 0.81597921763263\n",
      "Iterations: 107000 | loss: 0.8055114295179246\n",
      "Iterations: 108000 | loss: 0.8665908456934776\n",
      "Iterations: 109000 | loss: 0.8251845145971493\n",
      "Iterations: 110000 | loss: 0.8805890248088762\n",
      "Iterations: 111000 | loss: 0.793370703169494\n",
      "Iterations: 112000 | loss: 0.7925432689100198\n",
      "Iterations: 113000 | loss: 0.7786799074848677\n",
      "Iterations: 114000 | loss: 0.7639877298755883\n",
      "Iterations: 115000 | loss: 0.8855287496716483\n",
      "Iterations: 116000 | loss: 0.7808617139473063\n",
      "Iterations: 117000 | loss: 0.763794090308129\n",
      "Iterations: 118000 | loss: 0.8234481548304757\n",
      "Iterations: 119000 | loss: 0.84833483312612\n",
      "Iterations: 120000 | loss: 0.8034543139099405\n",
      "Iterations: 121000 | loss: 0.8073327995451982\n",
      "Iterations: 122000 | loss: 0.850217205074834\n",
      "Iterations: 123000 | loss: 0.8547855539721568\n",
      "Iterations: 124000 | loss: 0.8060649811940348\n",
      "Iterations: 125000 | loss: 0.8093316732775129\n",
      "Iterations: 126000 | loss: 0.7625036535359795\n",
      "Iterations: 127000 | loss: 0.8014309400652128\n",
      "Iterations: 128000 | loss: 0.8032450694370654\n"
     ]
    },
    {
     "ename": "KeyboardInterrupt",
     "evalue": "",
     "output_type": "error",
     "traceback": [
      "\u001b[1;31m---------------------------------------------------------------------------\u001b[0m",
      "\u001b[1;31mKeyboardInterrupt\u001b[0m                         Traceback (most recent call last)",
      "Cell \u001b[1;32mIn[3], line 1\u001b[0m\n\u001b[1;32m----> 1\u001b[0m \u001b[43mtrain\u001b[49m\u001b[43m(\u001b[49m\n\u001b[0;32m      2\u001b[0m \u001b[43m    \u001b[49m\u001b[43mmodel\u001b[49m\u001b[43m,\u001b[49m\n\u001b[0;32m      3\u001b[0m \u001b[43m    \u001b[49m\u001b[43mcriterion\u001b[49m\u001b[43m,\u001b[49m\n\u001b[0;32m      4\u001b[0m \u001b[43m    \u001b[49m\u001b[43moptimizer\u001b[49m\u001b[43m,\u001b[49m\n\u001b[0;32m      5\u001b[0m \u001b[43m    \u001b[49m\u001b[43mepochs\u001b[49m\u001b[38;5;241;43m=\u001b[39;49m\u001b[38;5;241;43m100000\u001b[39;49m\u001b[43m,\u001b[49m\n\u001b[0;32m      6\u001b[0m \u001b[43m    \u001b[49m\u001b[43mdata\u001b[49m\u001b[38;5;241;43m=\u001b[39;49m\u001b[43mdata\u001b[49m\u001b[43m,\u001b[49m\n\u001b[0;32m      7\u001b[0m \u001b[43m    \u001b[49m\u001b[43mlosses\u001b[49m\u001b[38;5;241;43m=\u001b[39;49m\u001b[43mlosses\u001b[49m\n\u001b[0;32m      8\u001b[0m \u001b[43m)\u001b[49m\n",
      "File \u001b[1;32mc:\\Users\\student\\Desktop\\RNN\\rnn\\rnn\\train.py:17\u001b[0m, in \u001b[0;36mtrain\u001b[1;34m(model, criterion, optimizer, epochs, data, losses)\u001b[0m\n\u001b[0;32m     14\u001b[0m hidden \u001b[38;5;241m=\u001b[39m model\u001b[38;5;241m.\u001b[39minit_hidden()\n\u001b[0;32m     16\u001b[0m \u001b[38;5;28;01mfor\u001b[39;00m ch \u001b[38;5;129;01min\u001b[39;00m \u001b[38;5;28mrange\u001b[39m(word\u001b[38;5;241m.\u001b[39mshape[\u001b[38;5;241m0\u001b[39m]):\n\u001b[1;32m---> 17\u001b[0m     output, hidden \u001b[38;5;241m=\u001b[39m \u001b[43mmodel\u001b[49m\u001b[43m(\u001b[49m\u001b[43mword\u001b[49m\u001b[43m[\u001b[49m\u001b[43mch\u001b[49m\u001b[43m]\u001b[49m\u001b[43m,\u001b[49m\u001b[43m \u001b[49m\u001b[43mhidden\u001b[49m\u001b[43m)\u001b[49m\n\u001b[0;32m     20\u001b[0m loss \u001b[38;5;241m=\u001b[39m criterion(output, category)\n\u001b[0;32m     23\u001b[0m optimizer\u001b[38;5;241m.\u001b[39mzero_grad()\n",
      "File \u001b[1;32mc:\\Users\\student\\AppData\\Local\\Programs\\Python\\Python312\\Lib\\site-packages\\torch\\nn\\modules\\module.py:1739\u001b[0m, in \u001b[0;36mModule._wrapped_call_impl\u001b[1;34m(self, *args, **kwargs)\u001b[0m\n\u001b[0;32m   1737\u001b[0m     \u001b[38;5;28;01mreturn\u001b[39;00m \u001b[38;5;28mself\u001b[39m\u001b[38;5;241m.\u001b[39m_compiled_call_impl(\u001b[38;5;241m*\u001b[39margs, \u001b[38;5;241m*\u001b[39m\u001b[38;5;241m*\u001b[39mkwargs)  \u001b[38;5;66;03m# type: ignore[misc]\u001b[39;00m\n\u001b[0;32m   1738\u001b[0m \u001b[38;5;28;01melse\u001b[39;00m:\n\u001b[1;32m-> 1739\u001b[0m     \u001b[38;5;28;01mreturn\u001b[39;00m \u001b[38;5;28;43mself\u001b[39;49m\u001b[38;5;241;43m.\u001b[39;49m\u001b[43m_call_impl\u001b[49m\u001b[43m(\u001b[49m\u001b[38;5;241;43m*\u001b[39;49m\u001b[43margs\u001b[49m\u001b[43m,\u001b[49m\u001b[43m \u001b[49m\u001b[38;5;241;43m*\u001b[39;49m\u001b[38;5;241;43m*\u001b[39;49m\u001b[43mkwargs\u001b[49m\u001b[43m)\u001b[49m\n",
      "File \u001b[1;32mc:\\Users\\student\\AppData\\Local\\Programs\\Python\\Python312\\Lib\\site-packages\\torch\\nn\\modules\\module.py:1750\u001b[0m, in \u001b[0;36mModule._call_impl\u001b[1;34m(self, *args, **kwargs)\u001b[0m\n\u001b[0;32m   1745\u001b[0m \u001b[38;5;66;03m# If we don't have any hooks, we want to skip the rest of the logic in\u001b[39;00m\n\u001b[0;32m   1746\u001b[0m \u001b[38;5;66;03m# this function, and just call forward.\u001b[39;00m\n\u001b[0;32m   1747\u001b[0m \u001b[38;5;28;01mif\u001b[39;00m \u001b[38;5;129;01mnot\u001b[39;00m (\u001b[38;5;28mself\u001b[39m\u001b[38;5;241m.\u001b[39m_backward_hooks \u001b[38;5;129;01mor\u001b[39;00m \u001b[38;5;28mself\u001b[39m\u001b[38;5;241m.\u001b[39m_backward_pre_hooks \u001b[38;5;129;01mor\u001b[39;00m \u001b[38;5;28mself\u001b[39m\u001b[38;5;241m.\u001b[39m_forward_hooks \u001b[38;5;129;01mor\u001b[39;00m \u001b[38;5;28mself\u001b[39m\u001b[38;5;241m.\u001b[39m_forward_pre_hooks\n\u001b[0;32m   1748\u001b[0m         \u001b[38;5;129;01mor\u001b[39;00m _global_backward_pre_hooks \u001b[38;5;129;01mor\u001b[39;00m _global_backward_hooks\n\u001b[0;32m   1749\u001b[0m         \u001b[38;5;129;01mor\u001b[39;00m _global_forward_hooks \u001b[38;5;129;01mor\u001b[39;00m _global_forward_pre_hooks):\n\u001b[1;32m-> 1750\u001b[0m     \u001b[38;5;28;01mreturn\u001b[39;00m \u001b[43mforward_call\u001b[49m\u001b[43m(\u001b[49m\u001b[38;5;241;43m*\u001b[39;49m\u001b[43margs\u001b[49m\u001b[43m,\u001b[49m\u001b[43m \u001b[49m\u001b[38;5;241;43m*\u001b[39;49m\u001b[38;5;241;43m*\u001b[39;49m\u001b[43mkwargs\u001b[49m\u001b[43m)\u001b[49m\n\u001b[0;32m   1752\u001b[0m result \u001b[38;5;241m=\u001b[39m \u001b[38;5;28;01mNone\u001b[39;00m\n\u001b[0;32m   1753\u001b[0m called_always_called_hooks \u001b[38;5;241m=\u001b[39m \u001b[38;5;28mset\u001b[39m()\n",
      "File \u001b[1;32mc:\\Users\\student\\Desktop\\RNN\\rnn\\rnn\\model.py:17\u001b[0m, in \u001b[0;36mRNN.forward\u001b[1;34m(self, input, hidden)\u001b[0m\n\u001b[0;32m     16\u001b[0m \u001b[38;5;28;01mdef\u001b[39;00m\u001b[38;5;250m \u001b[39m\u001b[38;5;21mforward\u001b[39m(\u001b[38;5;28mself\u001b[39m, \u001b[38;5;28minput\u001b[39m, hidden):\n\u001b[1;32m---> 17\u001b[0m     hidden \u001b[38;5;241m=\u001b[39m F\u001b[38;5;241m.\u001b[39mtanh(\u001b[38;5;28;43mself\u001b[39;49m\u001b[38;5;241;43m.\u001b[39;49m\u001b[43mi2h\u001b[49m\u001b[43m(\u001b[49m\u001b[38;5;28;43minput\u001b[39;49m\u001b[43m)\u001b[49m \u001b[38;5;241m+\u001b[39m \u001b[38;5;28mself\u001b[39m\u001b[38;5;241m.\u001b[39mh2h(hidden))\n\u001b[0;32m     18\u001b[0m     output \u001b[38;5;241m=\u001b[39m \u001b[38;5;28mself\u001b[39m\u001b[38;5;241m.\u001b[39mh2o(hidden)\n\u001b[0;32m     19\u001b[0m     output \u001b[38;5;241m=\u001b[39m \u001b[38;5;28mself\u001b[39m\u001b[38;5;241m.\u001b[39msoftmax(output)\n",
      "File \u001b[1;32mc:\\Users\\student\\AppData\\Local\\Programs\\Python\\Python312\\Lib\\site-packages\\torch\\nn\\modules\\module.py:1739\u001b[0m, in \u001b[0;36mModule._wrapped_call_impl\u001b[1;34m(self, *args, **kwargs)\u001b[0m\n\u001b[0;32m   1737\u001b[0m     \u001b[38;5;28;01mreturn\u001b[39;00m \u001b[38;5;28mself\u001b[39m\u001b[38;5;241m.\u001b[39m_compiled_call_impl(\u001b[38;5;241m*\u001b[39margs, \u001b[38;5;241m*\u001b[39m\u001b[38;5;241m*\u001b[39mkwargs)  \u001b[38;5;66;03m# type: ignore[misc]\u001b[39;00m\n\u001b[0;32m   1738\u001b[0m \u001b[38;5;28;01melse\u001b[39;00m:\n\u001b[1;32m-> 1739\u001b[0m     \u001b[38;5;28;01mreturn\u001b[39;00m \u001b[38;5;28;43mself\u001b[39;49m\u001b[38;5;241;43m.\u001b[39;49m\u001b[43m_call_impl\u001b[49m\u001b[43m(\u001b[49m\u001b[38;5;241;43m*\u001b[39;49m\u001b[43margs\u001b[49m\u001b[43m,\u001b[49m\u001b[43m \u001b[49m\u001b[38;5;241;43m*\u001b[39;49m\u001b[38;5;241;43m*\u001b[39;49m\u001b[43mkwargs\u001b[49m\u001b[43m)\u001b[49m\n",
      "File \u001b[1;32mc:\\Users\\student\\AppData\\Local\\Programs\\Python\\Python312\\Lib\\site-packages\\torch\\nn\\modules\\module.py:1750\u001b[0m, in \u001b[0;36mModule._call_impl\u001b[1;34m(self, *args, **kwargs)\u001b[0m\n\u001b[0;32m   1745\u001b[0m \u001b[38;5;66;03m# If we don't have any hooks, we want to skip the rest of the logic in\u001b[39;00m\n\u001b[0;32m   1746\u001b[0m \u001b[38;5;66;03m# this function, and just call forward.\u001b[39;00m\n\u001b[0;32m   1747\u001b[0m \u001b[38;5;28;01mif\u001b[39;00m \u001b[38;5;129;01mnot\u001b[39;00m (\u001b[38;5;28mself\u001b[39m\u001b[38;5;241m.\u001b[39m_backward_hooks \u001b[38;5;129;01mor\u001b[39;00m \u001b[38;5;28mself\u001b[39m\u001b[38;5;241m.\u001b[39m_backward_pre_hooks \u001b[38;5;129;01mor\u001b[39;00m \u001b[38;5;28mself\u001b[39m\u001b[38;5;241m.\u001b[39m_forward_hooks \u001b[38;5;129;01mor\u001b[39;00m \u001b[38;5;28mself\u001b[39m\u001b[38;5;241m.\u001b[39m_forward_pre_hooks\n\u001b[0;32m   1748\u001b[0m         \u001b[38;5;129;01mor\u001b[39;00m _global_backward_pre_hooks \u001b[38;5;129;01mor\u001b[39;00m _global_backward_hooks\n\u001b[0;32m   1749\u001b[0m         \u001b[38;5;129;01mor\u001b[39;00m _global_forward_hooks \u001b[38;5;129;01mor\u001b[39;00m _global_forward_pre_hooks):\n\u001b[1;32m-> 1750\u001b[0m     \u001b[38;5;28;01mreturn\u001b[39;00m \u001b[43mforward_call\u001b[49m\u001b[43m(\u001b[49m\u001b[38;5;241;43m*\u001b[39;49m\u001b[43margs\u001b[49m\u001b[43m,\u001b[49m\u001b[43m \u001b[49m\u001b[38;5;241;43m*\u001b[39;49m\u001b[38;5;241;43m*\u001b[39;49m\u001b[43mkwargs\u001b[49m\u001b[43m)\u001b[49m\n\u001b[0;32m   1752\u001b[0m result \u001b[38;5;241m=\u001b[39m \u001b[38;5;28;01mNone\u001b[39;00m\n\u001b[0;32m   1753\u001b[0m called_always_called_hooks \u001b[38;5;241m=\u001b[39m \u001b[38;5;28mset\u001b[39m()\n",
      "File \u001b[1;32mc:\\Users\\student\\AppData\\Local\\Programs\\Python\\Python312\\Lib\\site-packages\\torch\\nn\\modules\\linear.py:125\u001b[0m, in \u001b[0;36mLinear.forward\u001b[1;34m(self, input)\u001b[0m\n\u001b[0;32m    124\u001b[0m \u001b[38;5;28;01mdef\u001b[39;00m\u001b[38;5;250m \u001b[39m\u001b[38;5;21mforward\u001b[39m(\u001b[38;5;28mself\u001b[39m, \u001b[38;5;28minput\u001b[39m: Tensor) \u001b[38;5;241m-\u001b[39m\u001b[38;5;241m>\u001b[39m Tensor:\n\u001b[1;32m--> 125\u001b[0m     \u001b[38;5;28;01mreturn\u001b[39;00m \u001b[43mF\u001b[49m\u001b[38;5;241;43m.\u001b[39;49m\u001b[43mlinear\u001b[49m\u001b[43m(\u001b[49m\u001b[38;5;28;43minput\u001b[39;49m\u001b[43m,\u001b[49m\u001b[43m \u001b[49m\u001b[38;5;28;43mself\u001b[39;49m\u001b[38;5;241;43m.\u001b[39;49m\u001b[43mweight\u001b[49m\u001b[43m,\u001b[49m\u001b[43m \u001b[49m\u001b[38;5;28;43mself\u001b[39;49m\u001b[38;5;241;43m.\u001b[39;49m\u001b[43mbias\u001b[49m\u001b[43m)\u001b[49m\n",
      "\u001b[1;31mKeyboardInterrupt\u001b[0m: "
     ]
    }
   ],
   "source": [
    "train(\n",
    "    model,\n",
    "    criterion,\n",
    "    optimizer,\n",
    "    epochs=100000,\n",
    "    data=data,\n",
    "    losses=losses\n",
    ")"
   ]
  },
  {
   "cell_type": "code",
   "execution_count": 7,
   "metadata": {},
   "outputs": [
    {
     "data": {
      "text/plain": [
       "tensor([10])"
      ]
     },
     "execution_count": 7,
     "metadata": {},
     "output_type": "execute_result"
    }
   ],
   "source": [
    "w, c = data.random_sample()\n",
    "\n",
    "c"
   ]
  },
  {
   "cell_type": "code",
   "execution_count": 40,
   "metadata": {},
   "outputs": [],
   "source": [
    "def predict(model, input, data):\n",
    "    tensor = data.word2tensor(input)\n",
    "    hidden_state = model.init_hidden()\n",
    "\n",
    "    for ch in range(tensor.shape[0]):\n",
    "        output, hidden_state = model(tensor[ch], hidden_state)\n",
    "\n",
    "    category = data.tensor2category(torch.tensor([torch.argmax(output)], dtype=torch.long))\n",
    "    return category\n",
    "\n",
    "# predict(model, \"Luka Modric\\n\", data)\n"
   ]
  },
  {
   "cell_type": "code",
   "execution_count": 4,
   "metadata": {},
   "outputs": [
    {
     "data": {
      "text/plain": [
       "[<matplotlib.lines.Line2D at 0x26ebc87edb0>]"
      ]
     },
     "execution_count": 4,
     "metadata": {},
     "output_type": "execute_result"
    },
    {
     "data": {
      "image/png": "[encoded data removed]",
      "text/plain": [
       "<Figure size 640x480 with 1 Axes>"
      ]
     },
     "metadata": {},
     "output_type": "display_data"
    }
   ],
   "source": [
    "plt.plot(range(len(losses)), losses)"
   ]
  },
  {
   "cell_type": "code",
   "execution_count": null,
   "metadata": {},
   "outputs": [
    {
     "name": "stdout",
     "output_type": "stream",
     "text": [
      "Arabic\n"
     ]
    }
   ],
   "source": [
    "while True:\n",
    "    inp = input(\"> \")\n",
    "    if inp.lower() == \"quit\":\n",
    "        break\n",
    "\n",
    "    category = predict(model, f\"{inp}\\n\", data)\n",
    "    print(category)"
   ]
  }
 ],
 "metadata": {
  "kernelspec": {
   "display_name": "Python 3",
   "language": "python",
   "name": "python3"
  },
  "language_info": {
   "codemirror_mode": {
    "name": "ipython",
    "version": 3
   },
   "file_extension": ".py",
   "mimetype": "text/x-python",
   "name": "python",
   "nbconvert_exporter": "python",
   "pygments_lexer": "ipython3",
   "version": "3.12.2"
  }
 },
 "nbformat": 4,
 "nbformat_minor": 2
}
